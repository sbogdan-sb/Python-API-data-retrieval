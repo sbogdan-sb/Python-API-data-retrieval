{
 "cells": [
  {
   "cell_type": "markdown",
   "metadata": {},
   "source": [
    "# WeatherPy\n",
    "----\n",
    "\n",
    "### Analysis\n",
    "* As expected, the weather becomes significantly warmer as one approaches the equator (0 Deg. Latitude). More interestingly, however, is the fact that the southern hemisphere tends to be warmer this time of year than the northern hemisphere. This may be due to the tilt of the earth.\n",
    "* There is no strong relationship between latitude and cloudiness. However, it is interesting to see that a strong band of cities sits at 0, 80, and 100% cloudiness.\n",
    "* There is no strong relationship between latitude and wind speed. However, in northern hemispheres there is a flurry of cities with over 20 mph of wind.\n",
    "\n",
    "---\n",
    "\n",
    "#### Note\n",
    "* Instructions have been included for each segment. You do not have to follow them exactly, but they are included to help you think through the steps."
   ]
  },
  {
   "cell_type": "code",
   "execution_count": 114,
   "metadata": {
    "scrolled": true
   },
   "outputs": [],
   "source": [
    "# Dependencies and Setup\n",
    "import matplotlib.pyplot as plt\n",
    "import pandas as pd\n",
    "import numpy as np\n",
    "import requests\n",
    "import time\n",
    "import openweathermapy.core as owm\n",
    "from datetime import datetime\n",
    "\n",
    "# Import API key\n",
    "from api_keys import api_key\n",
    "\n",
    "# Incorporated citipy to determine city based on latitude and longitude\n",
    "from citipy import citipy\n",
    "\n",
    "# Output File (CSV)\n",
    "output_data_file = \"output_data/cities.csv\"\n",
    "\n",
    "# Range of latitudes and longitudes\n",
    "lat_range = (-90, 90)\n",
    "lng_range = (-180, 180)"
   ]
  },
  {
   "cell_type": "markdown",
   "metadata": {},
   "source": [
    "## Generate Cities List"
   ]
  },
  {
   "cell_type": "code",
   "execution_count": 17,
   "metadata": {},
   "outputs": [
    {
     "data": {
      "text/plain": [
       "111"
      ]
     },
     "execution_count": 17,
     "metadata": {},
     "output_type": "execute_result"
    }
   ],
   "source": [
    "# List for holding lat_lngs and cities\n",
    "lat_lngs = []\n",
    "cities = []\n",
    "\n",
    "# Create a set of random lat and lng combinations\n",
    "lats = np.random.uniform(low=-90.000, high=90.000, size=150)\n",
    "lngs = np.random.uniform(low=-180.000, high=180.000, size=150)\n",
    "lat_lngs = zip(lats, lngs)\n",
    "\n",
    "# Identify nearest city for each lat, lng combination\n",
    "for lat_lng in lat_lngs:\n",
    "    city = citipy.nearest_city(lat_lng[0], lat_lng[1]).city_name\n",
    "    \n",
    "    # If the city is unique, then add it to a our cities list\n",
    "    if city not in cities:\n",
    "        cities.append(city)\n",
    "\n",
    "# Print the city count to confirm sufficient count\n",
    "len(cities)"
   ]
  },
  {
   "cell_type": "markdown",
   "metadata": {},
   "source": [
    "### Perform API Calls\n",
    "* Perform a weather check on each city using a series of successive API calls.\n",
    "* Include a print log of each city as it'sbeing processed (with the city number and city name).\n"
   ]
  },
  {
   "cell_type": "code",
   "execution_count": 109,
   "metadata": {},
   "outputs": [
    {
     "name": "stdout",
     "output_type": "stream",
     "text": [
      "Begin weather data collection\n",
      "Processing record 0: ushuaia\n",
      "Processing record 1: samarai\n",
      "Processing record 2: cooma\n",
      "Processing record 3: gambela\n",
      "Processing record 4: san cristobal\n",
      "Processing record 5: vaini\n",
      "Processing record 6: green river\n",
      "Processing record 7: chokurdakh\n",
      "Processing record 8: saint george\n",
      "Skipping - City weather not found: mentok\n",
      "Processing record 9: punta arenas\n",
      "Processing record 10: san andres\n",
      "Processing record 11: bethel\n",
      "Processing record 12: prado\n",
      "Processing record 13: la mira\n",
      "Processing record 14: rikitea\n",
      "Processing record 15: jamestown\n",
      "Processing record 16: cape town\n",
      "Processing record 17: kapaa\n",
      "Processing record 18: porto novo\n",
      "Processing record 19: katsuura\n",
      "Skipping - City weather not found: tabiauea\n",
      "Processing record 20: port hueneme\n",
      "Processing record 21: east london\n",
      "Skipping - City weather not found: tumannyy\n",
      "Processing record 22: ketchikan\n",
      "Processing record 23: boyolangu\n",
      "Processing record 24: upernavik\n",
      "Processing record 25: mataura\n",
      "Processing record 26: ribeira grande\n",
      "Skipping - City weather not found: milingimbi\n",
      "Processing record 27: talnakh\n",
      "Skipping - City weather not found: bentiu\n",
      "Processing record 28: nemuro\n",
      "Processing record 29: zastron\n",
      "Processing record 30: busselton\n",
      "Processing record 31: sisimiut\n",
      "Processing record 32: biak\n",
      "Processing record 33: kalanchak\n",
      "Processing record 34: tawang\n",
      "Processing record 35: kodiak\n",
      "Processing record 36: shimoda\n",
      "Processing record 37: narsaq\n",
      "Processing record 38: codrington\n",
      "Processing record 39: nieuwpoort\n",
      "Skipping - City weather not found: taolanaro\n",
      "Processing record 40: hay river\n",
      "Processing record 41: talara\n",
      "Processing record 42: sassandra\n",
      "Processing record 43: kununurra\n",
      "Processing record 44: atuona\n",
      "Processing record 45: arraial do cabo\n",
      "Processing record 46: baffa\n",
      "Processing record 47: bilibino\n",
      "Processing record 48: mount isa\n",
      "Skipping - City weather not found: nizhneyansk\n",
      "Processing record 49: sumkino\n",
      "Skipping - City weather not found: mys shmidta\n",
      "Processing record 50: barrow\n",
      "Processing record 51: tasiilaq\n",
      "Processing record 52: foam lake\n",
      "Skipping - City weather not found: ransang\n",
      "Processing record 53: rognan\n",
      "Processing record 54: leh\n",
      "Processing record 55: abu samrah\n",
      "Processing record 56: hithadhoo\n",
      "Processing record 57: central point\n",
      "Processing record 58: loudeac\n",
      "Processing record 59: licheng\n",
      "Processing record 60: xinqing\n",
      "Processing record 61: baykit\n",
      "Processing record 62: pevek\n",
      "Processing record 63: avarua\n",
      "Processing record 64: havre-saint-pierre\n",
      "Processing record 65: luderitz\n",
      "Processing record 66: khatanga\n",
      "Processing record 67: berdigestyakh\n",
      "Processing record 68: qaanaaq\n",
      "Processing record 69: biryusinsk\n",
      "Processing record 70: synya\n",
      "Processing record 71: bambous virieux\n",
      "Processing record 72: yamada\n",
      "Processing record 73: bluff\n",
      "Processing record 74: albany\n",
      "Processing record 75: lebu\n",
      "Processing record 76: deer lake\n",
      "Processing record 77: hermanus\n",
      "Processing record 78: yellowknife\n",
      "Processing record 79: hasaki\n",
      "Skipping - City weather not found: burica\n",
      "Processing record 80: riosucio\n",
      "Processing record 81: tual\n",
      "Processing record 82: labuhan\n",
      "Processing record 83: los llanos de aridane\n",
      "Processing record 84: hobart\n",
      "Processing record 85: tura\n",
      "Processing record 86: gat\n",
      "Skipping - City weather not found: saleaula\n",
      "Processing record 87: castro\n",
      "Processing record 88: marfino\n",
      "Processing record 89: aginskoye\n",
      "Processing record 90: kiryu\n",
      "Processing record 91: sorong\n",
      "Processing record 92: esperance\n",
      "Processing record 93: maceio\n",
      "Processing record 94: guerrero negro\n",
      "Processing record 95: pisco\n",
      "Skipping - City weather not found: halalo\n",
      "Processing record 96: porto velho\n",
      "Processing record 97: dalvik\n",
      "Processing record 98: jaynagar-majilpur\n"
     ]
    }
   ],
   "source": [
    "params = {\"units\": \"imperial\", \"appid\": api_key}\n",
    "data_fields = [\"name\", \"sys.country\",\"clouds.all\", \"dt\", \"main.humidity\", \"coord.lat\", \"coord.lon\",\n",
    "              \"main.temp_max\",\"wind.speed\"]\n",
    "\n",
    "\n",
    "column_names = [\"City\", \"Country\", \"Cloudiness\", \"Date\", \"Humidity\",\n",
    "                                    \"Lat\", \"Lng\", \"Max Temp\", \"Wind Speed\"]\n",
    "\n",
    "weather_df = pd.DataFrame(columns = column_names)\n",
    "\n",
    "counter = 0\n",
    "\n",
    "print(\"Begin weather data collection\")\n",
    "\n",
    "for city in cities:\n",
    "    try:\n",
    "        current_weather = owm.get_current(city, **params)\n",
    "        print(f\"Processing record {counter}: {city}\")\n",
    "        weather_df.loc[counter] = current_weather(*data_fields)\n",
    "        counter += 1\n",
    "        \n",
    "    except:\n",
    "        print(f\"Skipping - City weather not found: {city}\")\n",
    "    "
   ]
  },
  {
   "cell_type": "markdown",
   "metadata": {},
   "source": [
    "### Convert Raw Data to DataFrame\n",
    "* Export the city data into a .csv.\n",
    "* Display the DataFrame"
   ]
  },
  {
   "cell_type": "code",
   "execution_count": 110,
   "metadata": {},
   "outputs": [
    {
     "data": {
      "text/plain": [
       "City          99\n",
       "Country       99\n",
       "Cloudiness    99\n",
       "Date          99\n",
       "Humidity      99\n",
       "Lat           99\n",
       "Lng           99\n",
       "Max Temp      99\n",
       "Wind Speed    99\n",
       "dtype: int64"
      ]
     },
     "execution_count": 110,
     "metadata": {},
     "output_type": "execute_result"
    }
   ],
   "source": [
    "weather_df.to_csv(output_data_file)\n",
    "weather_df.count()"
   ]
  },
  {
   "cell_type": "code",
   "execution_count": 111,
   "metadata": {},
   "outputs": [
    {
     "data": {
      "text/html": [
       "<div>\n",
       "<style scoped>\n",
       "    .dataframe tbody tr th:only-of-type {\n",
       "        vertical-align: middle;\n",
       "    }\n",
       "\n",
       "    .dataframe tbody tr th {\n",
       "        vertical-align: top;\n",
       "    }\n",
       "\n",
       "    .dataframe thead th {\n",
       "        text-align: right;\n",
       "    }\n",
       "</style>\n",
       "<table border=\"1\" class=\"dataframe\">\n",
       "  <thead>\n",
       "    <tr style=\"text-align: right;\">\n",
       "      <th></th>\n",
       "      <th>City</th>\n",
       "      <th>Country</th>\n",
       "      <th>Cloudiness</th>\n",
       "      <th>Date</th>\n",
       "      <th>Humidity</th>\n",
       "      <th>Lat</th>\n",
       "      <th>Lng</th>\n",
       "      <th>Max Temp</th>\n",
       "      <th>Wind Speed</th>\n",
       "    </tr>\n",
       "  </thead>\n",
       "  <tbody>\n",
       "    <tr>\n",
       "      <th>0</th>\n",
       "      <td>Ushuaia</td>\n",
       "      <td>AR</td>\n",
       "      <td>75</td>\n",
       "      <td>1551308400</td>\n",
       "      <td>81</td>\n",
       "      <td>-54.81</td>\n",
       "      <td>-68.31</td>\n",
       "      <td>48.20</td>\n",
       "      <td>26.40</td>\n",
       "    </tr>\n",
       "    <tr>\n",
       "      <th>1</th>\n",
       "      <td>Samarai</td>\n",
       "      <td>PG</td>\n",
       "      <td>76</td>\n",
       "      <td>1551309192</td>\n",
       "      <td>100</td>\n",
       "      <td>-10.62</td>\n",
       "      <td>150.67</td>\n",
       "      <td>81.69</td>\n",
       "      <td>10.78</td>\n",
       "    </tr>\n",
       "    <tr>\n",
       "      <th>2</th>\n",
       "      <td>Cooma</td>\n",
       "      <td>AU</td>\n",
       "      <td>32</td>\n",
       "      <td>1551308400</td>\n",
       "      <td>64</td>\n",
       "      <td>-36.24</td>\n",
       "      <td>149.13</td>\n",
       "      <td>68.00</td>\n",
       "      <td>10.29</td>\n",
       "    </tr>\n",
       "    <tr>\n",
       "      <th>3</th>\n",
       "      <td>Gambela</td>\n",
       "      <td>ET</td>\n",
       "      <td>92</td>\n",
       "      <td>1551311181</td>\n",
       "      <td>75</td>\n",
       "      <td>8.25</td>\n",
       "      <td>34.59</td>\n",
       "      <td>65.44</td>\n",
       "      <td>1.50</td>\n",
       "    </tr>\n",
       "    <tr>\n",
       "      <th>4</th>\n",
       "      <td>San Cristobal</td>\n",
       "      <td>EC</td>\n",
       "      <td>75</td>\n",
       "      <td>1551310309</td>\n",
       "      <td>77</td>\n",
       "      <td>-0.39</td>\n",
       "      <td>-78.55</td>\n",
       "      <td>62.60</td>\n",
       "      <td>9.17</td>\n",
       "    </tr>\n",
       "  </tbody>\n",
       "</table>\n",
       "</div>"
      ],
      "text/plain": [
       "            City Country Cloudiness        Date Humidity    Lat     Lng  \\\n",
       "0        Ushuaia      AR         75  1551308400       81 -54.81  -68.31   \n",
       "1        Samarai      PG         76  1551309192      100 -10.62  150.67   \n",
       "2          Cooma      AU         32  1551308400       64 -36.24  149.13   \n",
       "3        Gambela      ET         92  1551311181       75   8.25   34.59   \n",
       "4  San Cristobal      EC         75  1551310309       77  -0.39  -78.55   \n",
       "\n",
       "   Max Temp  Wind Speed  \n",
       "0     48.20       26.40  \n",
       "1     81.69       10.78  \n",
       "2     68.00       10.29  \n",
       "3     65.44        1.50  \n",
       "4     62.60        9.17  "
      ]
     },
     "execution_count": 111,
     "metadata": {},
     "output_type": "execute_result"
    }
   ],
   "source": [
    "weather_df.head()"
   ]
  },
  {
   "cell_type": "markdown",
   "metadata": {},
   "source": [
    "### Plotting the Data\n",
    "* Use proper labeling of the plots using plot titles (including date of analysis) and axes labels.\n",
    "* Save the plotted figures as .pngs."
   ]
  },
  {
   "cell_type": "markdown",
   "metadata": {},
   "source": [
    "#### Latitude vs. Temperature Plot"
   ]
  },
  {
   "cell_type": "code",
   "execution_count": 119,
   "metadata": {},
   "outputs": [
    {
     "data": {
      "text/plain": [
       "2019"
      ]
     },
     "execution_count": 119,
     "metadata": {},
     "output_type": "execute_result"
    }
   ],
   "source": [
    "datetime.fromtimestamp(1551310309)\n",
    "datetime.now().year"
   ]
  },
  {
   "cell_type": "code",
   "execution_count": 131,
   "metadata": {},
   "outputs": [
    {
     "data": {
      "image/png": "[encoded data removed]",
      "text/plain": [
       "<Figure size 432x288 with 1 Axes>"
      ]
     },
     "metadata": {
      "needs_background": "light"
     },
     "output_type": "display_data"
    }
   ],
   "source": [
    "plt.scatter(weather_df[\"Lat\"], weather_df[\"Max Temp\"])\n",
    "plt.grid()\n",
    "plt.xlabel(\"Latitude\")\n",
    "plt.ylabel(\"Max Temerature (F)\")\n",
    "plt.show()"
   ]
  },
  {
   "cell_type": "markdown",
   "metadata": {},
   "source": [
    "#### Latitude vs. Humidity Plot"
   ]
  },
  {
   "cell_type": "code",
   "execution_count": 130,
   "metadata": {},
   "outputs": [
    {
     "data": {
      "image/png": "[encoded data removed]",
      "text/plain": [
       "<Figure size 432x288 with 1 Axes>"
      ]
     },
     "metadata": {
      "needs_background": "light"
     },
     "output_type": "display_data"
    }
   ],
   "source": [
    "plt.scatter(weather_df[\"Lat\"], weather_df[\"Humidity\"])\n",
    "plt.grid()\n",
    "plt.xlabel(\"Latitude\")\n",
    "plt.ylabel(\"Humidity (%)\")\n",
    "plt.show()"
   ]
  },
  {
   "cell_type": "markdown",
   "metadata": {},
   "source": [
    "#### Latitude vs. Cloudiness Plot"
   ]
  },
  {
   "cell_type": "code",
   "execution_count": 129,
   "metadata": {},
   "outputs": [
    {
     "data": {
      "image/png": "[encoded data removed]",
      "text/plain": [
       "<Figure size 432x288 with 1 Axes>"
      ]
     },
     "metadata": {
      "needs_background": "light"
     },
     "output_type": "display_data"
    }
   ],
   "source": [
    "plt.scatter(weather_df[\"Lat\"], weather_df[\"Cloudiness\"])\n",
    "plt.grid()\n",
    "plt.xlabel(\"Latitude\")\n",
    "plt.ylabel(\"Cloudiness (%)\")\n",
    "plt.show()"
   ]
  },
  {
   "cell_type": "markdown",
   "metadata": {},
   "source": [
    "#### Latitude vs. Wind Speed Plot"
   ]
  },
  {
   "cell_type": "code",
   "execution_count": 127,
   "metadata": {},
   "outputs": [
    {
     "data": {
      "image/png": "[encoded data removed]",
      "text/plain": [
       "<Figure size 432x288 with 1 Axes>"
      ]
     },
     "metadata": {
      "needs_background": "light"
     },
     "output_type": "display_data"
    }
   ],
   "source": [
    "plt.scatter(weather_df[\"Lat\"], weather_df[\"Wind Speed\"])\n",
    "plt.grid()\n",
    "plt.xlabel(\"Latitude\")\n",
    "plt.ylabel(\"Wind Speed (MPH)\")\n",
    "plt.show()"
   ]
  },
  {
   "cell_type": "code",
   "execution_count": null,
   "metadata": {},
   "outputs": [],
   "source": []
  }
 ],
 "metadata": {
  "anaconda-cloud": {},
  "kernelspec": {
   "display_name": "Python 3",
   "language": "python",
   "name": "python3"
  },
  "language_info": {
   "codemirror_mode": {
    "name": "ipython",
    "version": 3
   },
   "file_extension": ".py",
   "mimetype": "text/x-python",
   "name": "python",
   "nbconvert_exporter": "python",
   "pygments_lexer": "ipython3",
   "version": "3.7.1"
  }
 },
 "nbformat": 4,
 "nbformat_minor": 2
}
